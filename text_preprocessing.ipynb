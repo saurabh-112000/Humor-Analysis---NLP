{
 "cells": [
  {
   "cell_type": "code",
   "execution_count": 1,
   "metadata": {},
   "outputs": [
    {
     "name": "stderr",
     "output_type": "stream",
     "text": [
      "[nltk_data] Downloading package stopwords to\n",
      "[nltk_data]     C:\\Users\\stuti\\AppData\\Roaming\\nltk_data...\n",
      "[nltk_data]   Package stopwords is already up-to-date!\n"
     ]
    }
   ],
   "source": [
    "import pandas as pd\n",
    "from bs4 import BeautifulSoup\n",
    "import requests\n",
    "from vaderSentiment.vaderSentiment import SentimentIntensityAnalyzer\n",
    "from textblob import TextBlob\n",
    "import matplotlib.pyplot as plt\n",
    "import regex as re\n",
    "import nltk\n",
    "import string\n",
    "from nltk.corpus import stopwords\n",
    "nltk.download('stopwords')\n",
    "from nltk.tokenize import word_tokenize\n",
    "from nltk.probability import FreqDist\n",
    "from nltk.tag import pos_tag\n",
    "from nltk.stem import WordNetLemmatizer\n",
    "from langdetect import detect, DetectorFactory, LangDetectException\n",
    "from ast import literal_eval\n",
    "from sklearn.feature_extraction.text import TfidfVectorizer\n",
    "from sklearn.decomposition import LatentDirichletAllocation"
   ]
  },
  {
   "cell_type": "code",
   "execution_count": 2,
   "metadata": {},
   "outputs": [
    {
     "data": {
      "text/html": [
       "<div>\n",
       "<style scoped>\n",
       "    .dataframe tbody tr th:only-of-type {\n",
       "        vertical-align: middle;\n",
       "    }\n",
       "\n",
       "    .dataframe tbody tr th {\n",
       "        vertical-align: top;\n",
       "    }\n",
       "\n",
       "    .dataframe thead th {\n",
       "        text-align: right;\n",
       "    }\n",
       "</style>\n",
       "<table border=\"1\" class=\"dataframe\">\n",
       "  <thead>\n",
       "    <tr style=\"text-align: right;\">\n",
       "      <th></th>\n",
       "      <th>Unnamed: 0</th>\n",
       "      <th>URL</th>\n",
       "      <th>transcript</th>\n",
       "      <th>Comedian Name</th>\n",
       "      <th>word_count</th>\n",
       "      <th>Unique ID</th>\n",
       "      <th>neg_polarity</th>\n",
       "      <th>neu_polarity</th>\n",
       "      <th>pos_polarity</th>\n",
       "      <th>compound</th>\n",
       "      <th>subjectivity</th>\n",
       "    </tr>\n",
       "  </thead>\n",
       "  <tbody>\n",
       "    <tr>\n",
       "      <th>0</th>\n",
       "      <td>0</td>\n",
       "      <td>https://scrapsfromtheloft.com/comedy/pete-holm...</td>\n",
       "      <td>\\r\\n \\r\\n [audience cheering and applauding] \\...</td>\n",
       "      <td>Pete Holmes</td>\n",
       "      <td>10068</td>\n",
       "      <td>0</td>\n",
       "      <td>0.056</td>\n",
       "      <td>0.688</td>\n",
       "      <td>0.256</td>\n",
       "      <td>1.0</td>\n",
       "      <td>0.504545</td>\n",
       "    </tr>\n",
       "  </tbody>\n",
       "</table>\n",
       "</div>"
      ],
      "text/plain": [
       "   Unnamed: 0                                                URL  \\\n",
       "0           0  https://scrapsfromtheloft.com/comedy/pete-holm...   \n",
       "\n",
       "                                          transcript Comedian Name  \\\n",
       "0  \\r\\n \\r\\n [audience cheering and applauding] \\...   Pete Holmes   \n",
       "\n",
       "   word_count  Unique ID  neg_polarity  neu_polarity  pos_polarity  compound  \\\n",
       "0       10068          0         0.056         0.688         0.256       1.0   \n",
       "\n",
       "   subjectivity  \n",
       "0      0.504545  "
      ]
     },
     "execution_count": 2,
     "metadata": {},
     "output_type": "execute_result"
    }
   ],
   "source": [
    "df = pd.read_csv('polarity_subjectivity_data_without_LemmStemm.csv')\n",
    "df.head(1)"
   ]
  },
  {
   "cell_type": "code",
   "execution_count": 3,
   "metadata": {},
   "outputs": [],
   "source": [
    "# Removing punctuations from transcript\n",
    "df['transcript'] = df['transcript'].str.replace(f'[{string.punctuation}]', '', regex = True)\n",
    "\n",
    "# Removing special characters\n",
    "df['transcript'] = df['transcript'].apply(lambda x: re.sub('[^\\w\\s]', '', x))\n",
    "\n",
    "# Decapitalizing text\n",
    "df['transcript'] = df['transcript'].apply(lambda x: x.lower())"
   ]
  },
  {
   "cell_type": "code",
   "execution_count": 4,
   "metadata": {},
   "outputs": [
    {
     "data": {
      "text/html": [
       "<div>\n",
       "<style scoped>\n",
       "    .dataframe tbody tr th:only-of-type {\n",
       "        vertical-align: middle;\n",
       "    }\n",
       "\n",
       "    .dataframe tbody tr th {\n",
       "        vertical-align: top;\n",
       "    }\n",
       "\n",
       "    .dataframe thead th {\n",
       "        text-align: right;\n",
       "    }\n",
       "</style>\n",
       "<table border=\"1\" class=\"dataframe\">\n",
       "  <thead>\n",
       "    <tr style=\"text-align: right;\">\n",
       "      <th></th>\n",
       "      <th>Unnamed: 0</th>\n",
       "      <th>URL</th>\n",
       "      <th>transcript</th>\n",
       "      <th>Comedian Name</th>\n",
       "      <th>word_count</th>\n",
       "      <th>Unique ID</th>\n",
       "      <th>neg_polarity</th>\n",
       "      <th>neu_polarity</th>\n",
       "      <th>pos_polarity</th>\n",
       "      <th>compound</th>\n",
       "      <th>subjectivity</th>\n",
       "    </tr>\n",
       "  </thead>\n",
       "  <tbody>\n",
       "    <tr>\n",
       "      <th>0</th>\n",
       "      <td>0</td>\n",
       "      <td>https://scrapsfromtheloft.com/comedy/pete-holm...</td>\n",
       "      <td>\\r\\n \\r\\n audience cheering and applauding \\r\\...</td>\n",
       "      <td>Pete Holmes</td>\n",
       "      <td>10068</td>\n",
       "      <td>0</td>\n",
       "      <td>0.056</td>\n",
       "      <td>0.688</td>\n",
       "      <td>0.256</td>\n",
       "      <td>1.0</td>\n",
       "      <td>0.504545</td>\n",
       "    </tr>\n",
       "  </tbody>\n",
       "</table>\n",
       "</div>"
      ],
      "text/plain": [
       "   Unnamed: 0                                                URL  \\\n",
       "0           0  https://scrapsfromtheloft.com/comedy/pete-holm...   \n",
       "\n",
       "                                          transcript Comedian Name  \\\n",
       "0  \\r\\n \\r\\n audience cheering and applauding \\r\\...   Pete Holmes   \n",
       "\n",
       "   word_count  Unique ID  neg_polarity  neu_polarity  pos_polarity  compound  \\\n",
       "0       10068          0         0.056         0.688         0.256       1.0   \n",
       "\n",
       "   subjectivity  \n",
       "0      0.504545  "
      ]
     },
     "execution_count": 4,
     "metadata": {},
     "output_type": "execute_result"
    }
   ],
   "source": [
    "df.head(1)"
   ]
  },
  {
   "cell_type": "code",
   "execution_count": 5,
   "metadata": {},
   "outputs": [],
   "source": [
    "# Eliminating stop words\n",
    "stop_words = stopwords.words('english')\n",
    "\n",
    "df['tokens_lst'] = df['transcript'].apply(lambda x: [w for w in word_tokenize(x) if not w.lower() in stop_words])"
   ]
  },
  {
   "cell_type": "code",
   "execution_count": 6,
   "metadata": {},
   "outputs": [],
   "source": [
    "# Counting most frequently ocurring words in the corpus\n",
    "txt = df['tokens_lst'].apply(lambda x: ' '.join(x))\n",
    "tokens = [w for lst in txt.apply(word_tokenize) for w in lst]\n",
    "word_cnt = FreqDist(tokens)"
   ]
  },
  {
   "cell_type": "code",
   "execution_count": 7,
   "metadata": {},
   "outputs": [],
   "source": [
    "# Map each word in list to adjective, nouns, verbs, adverbs\n",
    "#allowed_tag = ['NN', 'NNS', 'NNP', 'NNPS',     \n",
    "#               'RB', 'RBR', 'RBS', \n",
    "#               'JJ', 'JJR', 'JJS',\n",
    "#               'VB', 'VBD', 'VBG', 'VBN', 'VBP', 'VBZ']\n",
    "\n",
    "# Nouns tag list\n",
    "allowed_tag_nouns = ['NN', 'NNS', 'NNP', 'NNPS']\n",
    "\n",
    "token_tag_lst = df['tokens_lst'].apply(lambda x: pos_tag(x))\n",
    "df['all_tokens'] = token_tag_lst\n",
    "\n",
    "df['select_tokens'] = df['all_tokens'].apply(lambda x: [word for word, tag in x if tag in allowed_tag_nouns])"
   ]
  },
  {
   "cell_type": "code",
   "execution_count": 8,
   "metadata": {},
   "outputs": [
    {
     "data": {
      "text/html": [
       "<div>\n",
       "<style scoped>\n",
       "    .dataframe tbody tr th:only-of-type {\n",
       "        vertical-align: middle;\n",
       "    }\n",
       "\n",
       "    .dataframe tbody tr th {\n",
       "        vertical-align: top;\n",
       "    }\n",
       "\n",
       "    .dataframe thead th {\n",
       "        text-align: right;\n",
       "    }\n",
       "</style>\n",
       "<table border=\"1\" class=\"dataframe\">\n",
       "  <thead>\n",
       "    <tr style=\"text-align: right;\">\n",
       "      <th></th>\n",
       "      <th>Unnamed: 0</th>\n",
       "      <th>URL</th>\n",
       "      <th>transcript</th>\n",
       "      <th>Comedian Name</th>\n",
       "      <th>word_count</th>\n",
       "      <th>Unique ID</th>\n",
       "      <th>neg_polarity</th>\n",
       "      <th>neu_polarity</th>\n",
       "      <th>pos_polarity</th>\n",
       "      <th>compound</th>\n",
       "      <th>subjectivity</th>\n",
       "      <th>tokens_lst</th>\n",
       "      <th>all_tokens</th>\n",
       "      <th>select_tokens</th>\n",
       "      <th>diff</th>\n",
       "    </tr>\n",
       "  </thead>\n",
       "  <tbody>\n",
       "    <tr>\n",
       "      <th>0</th>\n",
       "      <td>0</td>\n",
       "      <td>https://scrapsfromtheloft.com/comedy/pete-holm...</td>\n",
       "      <td>\\r\\n \\r\\n audience cheering and applauding \\r\\...</td>\n",
       "      <td>Pete Holmes</td>\n",
       "      <td>10068</td>\n",
       "      <td>0</td>\n",
       "      <td>0.056</td>\n",
       "      <td>0.688</td>\n",
       "      <td>0.256</td>\n",
       "      <td>1.0</td>\n",
       "      <td>0.504545</td>\n",
       "      <td>[audience, cheering, applauding, hello, hello,...</td>\n",
       "      <td>[(audience, NN), (cheering, VBG), (applauding,...</td>\n",
       "      <td>[audience, hello, cheering, applause, thank, g...</td>\n",
       "      <td>3196</td>\n",
       "    </tr>\n",
       "    <tr>\n",
       "      <th>1</th>\n",
       "      <td>1</td>\n",
       "      <td>https://scrapsfromtheloft.com/comedy/jeff-dunh...</td>\n",
       "      <td>\\r\\n \\r\\n im funnier than he is but they told ...</td>\n",
       "      <td>Jeff Dunham</td>\n",
       "      <td>4943</td>\n",
       "      <td>1</td>\n",
       "      <td>0.062</td>\n",
       "      <td>0.673</td>\n",
       "      <td>0.264</td>\n",
       "      <td>1.0</td>\n",
       "      <td>0.535705</td>\n",
       "      <td>[im, funnier, told, introduce, heres, jeff, du...</td>\n",
       "      <td>[(im, NN), (funnier, NN), (told, VBD), (introd...</td>\n",
       "      <td>[im, funnier, introduce, heres, upbeat, rock, ...</td>\n",
       "      <td>1485</td>\n",
       "    </tr>\n",
       "    <tr>\n",
       "      <th>2</th>\n",
       "      <td>2</td>\n",
       "      <td>https://scrapsfromtheloft.com/comedy/taylor-to...</td>\n",
       "      <td>\\r\\n \\r\\n in her 2024 netflix standup comedy s...</td>\n",
       "      <td>Taylor Tomlinson</td>\n",
       "      <td>11197</td>\n",
       "      <td>2</td>\n",
       "      <td>0.077</td>\n",
       "      <td>0.717</td>\n",
       "      <td>0.206</td>\n",
       "      <td>1.0</td>\n",
       "      <td>0.510567</td>\n",
       "      <td>[2024, netflix, standup, comedy, special, tayl...</td>\n",
       "      <td>[(2024, CD), (netflix, JJ), (standup, NN), (co...</td>\n",
       "      <td>[standup, comedy, taylor, tomlinson, offers, e...</td>\n",
       "      <td>3451</td>\n",
       "    </tr>\n",
       "  </tbody>\n",
       "</table>\n",
       "</div>"
      ],
      "text/plain": [
       "   Unnamed: 0                                                URL  \\\n",
       "0           0  https://scrapsfromtheloft.com/comedy/pete-holm...   \n",
       "1           1  https://scrapsfromtheloft.com/comedy/jeff-dunh...   \n",
       "2           2  https://scrapsfromtheloft.com/comedy/taylor-to...   \n",
       "\n",
       "                                          transcript     Comedian Name  \\\n",
       "0  \\r\\n \\r\\n audience cheering and applauding \\r\\...       Pete Holmes   \n",
       "1  \\r\\n \\r\\n im funnier than he is but they told ...       Jeff Dunham   \n",
       "2  \\r\\n \\r\\n in her 2024 netflix standup comedy s...  Taylor Tomlinson   \n",
       "\n",
       "   word_count  Unique ID  neg_polarity  neu_polarity  pos_polarity  compound  \\\n",
       "0       10068          0         0.056         0.688         0.256       1.0   \n",
       "1        4943          1         0.062         0.673         0.264       1.0   \n",
       "2       11197          2         0.077         0.717         0.206       1.0   \n",
       "\n",
       "   subjectivity                                         tokens_lst  \\\n",
       "0      0.504545  [audience, cheering, applauding, hello, hello,...   \n",
       "1      0.535705  [im, funnier, told, introduce, heres, jeff, du...   \n",
       "2      0.510567  [2024, netflix, standup, comedy, special, tayl...   \n",
       "\n",
       "                                          all_tokens  \\\n",
       "0  [(audience, NN), (cheering, VBG), (applauding,...   \n",
       "1  [(im, NN), (funnier, NN), (told, VBD), (introd...   \n",
       "2  [(2024, CD), (netflix, JJ), (standup, NN), (co...   \n",
       "\n",
       "                                       select_tokens  diff  \n",
       "0  [audience, hello, cheering, applause, thank, g...  3196  \n",
       "1  [im, funnier, introduce, heres, upbeat, rock, ...  1485  \n",
       "2  [standup, comedy, taylor, tomlinson, offers, e...  3451  "
      ]
     },
     "execution_count": 8,
     "metadata": {},
     "output_type": "execute_result"
    }
   ],
   "source": [
    "df['diff'] = df.apply(lambda r: len(r['tokens_lst']) - len(r['select_tokens']), axis=1)\n",
    "df.head(3)"
   ]
  },
  {
   "cell_type": "code",
   "execution_count": 9,
   "metadata": {},
   "outputs": [],
   "source": [
    "#df.to_csv('preprocess_final.csv')"
   ]
  },
  {
   "cell_type": "code",
   "execution_count": 10,
   "metadata": {},
   "outputs": [],
   "source": [
    "# Lemmatizing the final tokens column\n",
    "\n",
    "#lem = WordNetLemmatizer()\n",
    "\n",
    "#def lem_tokens(tokens):\n",
    "#    return [lem.lemmatize(token) for token in tokens]\n",
    "\n",
    "#df['lem_tokens'] = df['select_tokens'].apply(lambda x: lem_tokens(x))"
   ]
  },
  {
   "cell_type": "code",
   "execution_count": 11,
   "metadata": {},
   "outputs": [],
   "source": [
    "DetectorFactory.seed = 0\n",
    "DetectorFactory.min_num_of_characters = 50 \n",
    "\n",
    "def lang_detect(transcripts):\n",
    "    try:\n",
    "        return detect(transcripts)\n",
    "    except LangDetectException:\n",
    "        return None\n",
    "\n",
    "df['language'] = df['transcript'].apply(lang_detect)\n",
    "\n",
    "df = df[df['language'] == 'en']"
   ]
  },
  {
   "cell_type": "markdown",
   "metadata": {},
   "source": [
    "#### Latent Dirichlet Allocation"
   ]
  },
  {
   "cell_type": "code",
   "execution_count": 12,
   "metadata": {},
   "outputs": [],
   "source": [
    "from sklearn.feature_extraction.text import CountVectorizer\n",
    "\n",
    "# Text to Numerical Representation\n",
    "tf_vect = TfidfVectorizer(tokenizer= lambda doc: doc, lowercase = False)\n",
    "cv_vect = CountVectorizer(tokenizer = lambda doc:doc, lowercase = False)"
   ]
  },
  {
   "cell_type": "code",
   "execution_count": 13,
   "metadata": {},
   "outputs": [
    {
     "name": "stderr",
     "output_type": "stream",
     "text": [
      "c:\\Users\\stuti\\Desktop\\Northeastern University\\Academics\\Semesters\\Sem-4\\NLP\\New_NLP_Project\\Humor-Analysis---NLP\\.venv\\lib\\site-packages\\sklearn\\feature_extraction\\text.py:525: UserWarning: The parameter 'token_pattern' will not be used since 'tokenizer' is not None'\n",
      "  warnings.warn(\n"
     ]
    },
    {
     "data": {
      "text/plain": [
       "<464x34404 sparse matrix of type '<class 'numpy.float64'>'\n",
       "\twith 328680 stored elements in Compressed Sparse Row format>"
      ]
     },
     "execution_count": 13,
     "metadata": {},
     "output_type": "execute_result"
    }
   ],
   "source": [
    "# Array from vectorizers\n",
    "\n",
    "tf_arr = tf_vect.fit_transform(df['select_tokens'])\n",
    "cv_arr = cv_vect.fit_transform(df['select_tokens'])\n",
    "tf_arr"
   ]
  },
  {
   "cell_type": "code",
   "execution_count": 14,
   "metadata": {},
   "outputs": [
    {
     "data": {
      "text/plain": [
       "array(['11deniers', '60s', '70s', ..., 'és', 'órale', 'über'],\n",
       "      dtype=object)"
      ]
     },
     "execution_count": 14,
     "metadata": {},
     "output_type": "execute_result"
    }
   ],
   "source": [
    "vocab_tf = tf_vect.get_feature_names_out()\n",
    "vocab_tf"
   ]
  },
  {
   "cell_type": "code",
   "execution_count": 15,
   "metadata": {},
   "outputs": [],
   "source": [
    "lda = LatentDirichletAllocation(n_components = 10, max_iter = 200, random_state = 0)\n",
    "topics = lda.fit_transform(tf_arr)\n",
    "topic_words = lda.components_"
   ]
  },
  {
   "cell_type": "code",
   "execution_count": 16,
   "metadata": {},
   "outputs": [
    {
     "name": "stdout",
     "output_type": "stream",
     "text": [
      "Topic 1 ['drinken' 'sie' 'halfcaste' 'fo' 'mavericks' 'madman' 'kannst' 'vater'\n",
      " 'mixedbreed' 'helfen']\n",
      "Topic 2 ['bolsonaro' 'deforestation' 'rainforest' 'guajajara' 'jair' 'brazils'\n",
      " 'jbs' 'sônia' 'bolsonaros' 'ox']\n",
      "Topic 3 ['josep' 'filmstar' 'eff' 'loirn' 'sergeant' 'moccasins' 'righthand'\n",
      " 'birch' 'feather' 'horselaugh']\n",
      "Topic 4 ['dani' 'jax' 'karam' 'enaam' 'trainees' 'aida' 'abo' 'rocco' 'audette'\n",
      " 'crotchet']\n",
      "Topic 5 ['zionism' 'kroeger' 'tambor' 'liberation' 'ceasefire' 'eanna' 'preaches'\n",
      " 'rath' 'pixels' 'exposes']\n",
      "Topic 6 ['klause' 'wilhelm' 'propriety' 'arrgggghh' 'eletricity' 'insaaaaane'\n",
      " 'whoooooo' 'wayyyyy' 'felicity' 'deniro']\n",
      "Topic 7 ['im' 'thats' 'people' 'dont' 'youre' 'audience' 'laughter' 'time' 'man'\n",
      " 'gon']\n",
      "Topic 8 ['gil' 'fatih' 'lailailai' 'halamaha' 'ravi' 'beez' 'bebeez' 'yannis'\n",
      " 'lailailailai' 'tokhm']\n",
      "Topic 9 ['griot' 'epidemic' 'artistry' 'thundercat' 'gab' 'architects' 'tame'\n",
      " 'lathan' 'stan' 'mos']\n",
      "Topic 10 ['mnah' 'bonanza' 'johansen' 'marrying' 'developments' 'bribes' 'athey'\n",
      " 'headnot' 'wingtips' 'teardrop']\n"
     ]
    }
   ],
   "source": [
    "import numpy as np\n",
    "\n",
    "n_words = 11\n",
    "\n",
    "for i, topic in enumerate(topic_words):\n",
    "    sorted_topic = np.argsort(topic)\n",
    "\n",
    "    topic_words = np.array(vocab_tf)[sorted_topic]\n",
    "    topic_words = topic_words[:-n_words:-1]\n",
    "    print('Topic', str(i+1), topic_words)"
   ]
  },
  {
   "cell_type": "code",
   "execution_count": null,
   "metadata": {},
   "outputs": [],
   "source": []
  }
 ],
 "metadata": {
  "kernelspec": {
   "display_name": ".venv",
   "language": "python",
   "name": "python3"
  },
  "language_info": {
   "codemirror_mode": {
    "name": "ipython",
    "version": 3
   },
   "file_extension": ".py",
   "mimetype": "text/x-python",
   "name": "python",
   "nbconvert_exporter": "python",
   "pygments_lexer": "ipython3",
   "version": "3.10.2"
  }
 },
 "nbformat": 4,
 "nbformat_minor": 2
}
