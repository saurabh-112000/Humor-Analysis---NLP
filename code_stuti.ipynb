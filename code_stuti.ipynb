{
 "cells": [
  {
   "cell_type": "code",
   "execution_count": 104,
   "metadata": {},
   "outputs": [],
   "source": [
    "# Importing libraries\n",
    "import pandas as pd\n",
    "from bs4 import BeautifulSoup\n",
    "import requests\n",
    "from vaderSentiment.vaderSentiment import SentimentIntensityAnalyzer\n",
    "from textblob import TextBlob\n",
    "import matplotlib.pyplot as plt"
   ]
  },
  {
   "cell_type": "code",
   "execution_count": 64,
   "metadata": {},
   "outputs": [
    {
     "data": {
      "text/html": [
       "<div>\n",
       "<style scoped>\n",
       "    .dataframe tbody tr th:only-of-type {\n",
       "        vertical-align: middle;\n",
       "    }\n",
       "\n",
       "    .dataframe tbody tr th {\n",
       "        vertical-align: top;\n",
       "    }\n",
       "\n",
       "    .dataframe thead th {\n",
       "        text-align: right;\n",
       "    }\n",
       "</style>\n",
       "<table border=\"1\" class=\"dataframe\">\n",
       "  <thead>\n",
       "    <tr style=\"text-align: right;\">\n",
       "      <th></th>\n",
       "      <th>URL</th>\n",
       "    </tr>\n",
       "  </thead>\n",
       "  <tbody>\n",
       "    <tr>\n",
       "      <th>0</th>\n",
       "      <td>https://scrapsfromtheloft.com/comedy/pete-holm...</td>\n",
       "    </tr>\n",
       "    <tr>\n",
       "      <th>1</th>\n",
       "      <td>https://scrapsfromtheloft.com/comedy/jeff-dunh...</td>\n",
       "    </tr>\n",
       "    <tr>\n",
       "      <th>2</th>\n",
       "      <td>https://scrapsfromtheloft.com/comedy/taylor-to...</td>\n",
       "    </tr>\n",
       "    <tr>\n",
       "      <th>3</th>\n",
       "      <td>https://scrapsfromtheloft.com/comedy/kevin-bri...</td>\n",
       "    </tr>\n",
       "    <tr>\n",
       "      <th>4</th>\n",
       "      <td>https://scrapsfromtheloft.com/comedy/jacquelin...</td>\n",
       "    </tr>\n",
       "  </tbody>\n",
       "</table>\n",
       "</div>"
      ],
      "text/plain": [
       "                                                 URL\n",
       "0  https://scrapsfromtheloft.com/comedy/pete-holm...\n",
       "1  https://scrapsfromtheloft.com/comedy/jeff-dunh...\n",
       "2  https://scrapsfromtheloft.com/comedy/taylor-to...\n",
       "3  https://scrapsfromtheloft.com/comedy/kevin-bri...\n",
       "4  https://scrapsfromtheloft.com/comedy/jacquelin..."
      ]
     },
     "execution_count": 64,
     "metadata": {},
     "output_type": "execute_result"
    }
   ],
   "source": [
    "df = pd.read_csv('urls.csv')\n",
    "df.head()"
   ]
  },
  {
   "cell_type": "code",
   "execution_count": 65,
   "metadata": {},
   "outputs": [],
   "source": [
    "def get_transcript(link):\n",
    "    max_retries = 5\n",
    "    for attempt in range(max_retries):\n",
    "        try:\n",
    "            response = requests.get(link)\n",
    "            if response.status_code == 200:\n",
    "                soup = BeautifulSoup(response.text, 'html.parser')\n",
    "                transcript_div = soup.find('div', class_='elementor-element elementor-element-74af9a5b elementor-widget elementor-widget-theme-post-content')\n",
    "                \n",
    "                if transcript_div:\n",
    "                    transcript = transcript_div.get_text(separator=' ')\n",
    "                    return transcript \n",
    "        except Exception as e:\n",
    "            print(f'Error on attempt {attempt + 1} for {link}: {str(e)}')\n",
    "        print(f'Retrying {attempt + 1}/{max_retries} for {link}')\n",
    "    \n",
    "    return None  # All retries failed; returns None\n"
   ]
  },
  {
   "cell_type": "code",
   "execution_count": 66,
   "metadata": {},
   "outputs": [
    {
     "name": "stdout",
     "output_type": "stream",
     "text": [
      "Retrying 1/5 for https://scrapsfromtheloft.com/comedy/jeff-dunham-im-with-cupid-transcript/\n",
      "Retrying 1/5 for https://scrapsfromtheloft.com/comedy/kelsey-cook-the-hustler-transcript/\n",
      "Retrying 1/5 for https://scrapsfromtheloft.com/comedy/dylan-moran-yeah-yeah-2011-transcript/\n",
      "Retrying 1/5 for https://scrapsfromtheloft.com/comedy/stavros-halkias-live-at-the-lodge-room-transcript/\n",
      "Retrying 1/5 for https://scrapsfromtheloft.com/comedy/sincerely-louis-ck-transcript/\n",
      "Retrying 1/5 for https://scrapsfromtheloft.com/comedy/sebastian-maniscalco-arent-you-embarrassed-transcript/\n",
      "Retrying 1/5 for https://scrapsfromtheloft.com/comedy/ron-white-if-you-quit-listening-ill-shutup-transcript/\n",
      "Retrying 1/5 for https://scrapsfromtheloft.com/comedy/bridget-everett-gynecological-wonder-2015-full-transcript/\n",
      "Retrying 1/5 for https://scrapsfromtheloft.com/comedy/jack-whitehall-at-large-2017-full-transcript/\n",
      "Retrying 1/5 for https://scrapsfromtheloft.com/comedy/paul-mooney-piece-mind-godbless-america-transcript/\n",
      "Retrying 1/5 for https://scrapsfromtheloft.com/comedy/erik-griffin-the-ugly-truth-2017-full-transcript/\n",
      "Retrying 1/5 for https://scrapsfromtheloft.com/comedy/comedy-central-presents-daniel-tosh-2003-full-transcript/\n",
      "Retrying 1/5 for https://scrapsfromtheloft.com/comedy/john-mulaney-new-in-town-2012-full-transcript/\n",
      "Retrying 1/5 for https://scrapsfromtheloft.com/comedy/louis-c-k-live-at-the-comedy-store-2015-transcript/\n",
      "Retrying 1/5 for https://scrapsfromtheloft.com/comedy/george-carlin-back-town-1996-full-transcript/\n",
      "Retrying 1/5 for https://scrapsfromtheloft.com/comedy/louis-c-k-2017-full-transcript/\n"
     ]
    }
   ],
   "source": [
    "df['transcript'] = df['URL'].apply(get_transcript)"
   ]
  },
  {
   "cell_type": "code",
   "execution_count": 67,
   "metadata": {},
   "outputs": [
    {
     "data": {
      "text/plain": [
       "URL           0\n",
       "transcript    0\n",
       "dtype: int64"
      ]
     },
     "execution_count": 67,
     "metadata": {},
     "output_type": "execute_result"
    }
   ],
   "source": [
    "df.isnull().sum()"
   ]
  },
  {
   "cell_type": "code",
   "execution_count": 68,
   "metadata": {},
   "outputs": [],
   "source": [
    "pd.reset_option('display.max_colwidth')\n",
    "pd.reset_option('display.width')"
   ]
  },
  {
   "cell_type": "code",
   "execution_count": 69,
   "metadata": {},
   "outputs": [
    {
     "data": {
      "text/html": [
       "<div>\n",
       "<style scoped>\n",
       "    .dataframe tbody tr th:only-of-type {\n",
       "        vertical-align: middle;\n",
       "    }\n",
       "\n",
       "    .dataframe tbody tr th {\n",
       "        vertical-align: top;\n",
       "    }\n",
       "\n",
       "    .dataframe thead th {\n",
       "        text-align: right;\n",
       "    }\n",
       "</style>\n",
       "<table border=\"1\" class=\"dataframe\">\n",
       "  <thead>\n",
       "    <tr style=\"text-align: right;\">\n",
       "      <th></th>\n",
       "      <th>URL</th>\n",
       "      <th>transcript</th>\n",
       "    </tr>\n",
       "  </thead>\n",
       "  <tbody>\n",
       "    <tr>\n",
       "      <th>0</th>\n",
       "      <td>https://scrapsfromtheloft.com/comedy/pete-holm...</td>\n",
       "      <td>\\n \\n [audience cheering and applauding] \\n He...</td>\n",
       "    </tr>\n",
       "    <tr>\n",
       "      <th>1</th>\n",
       "      <td>https://scrapsfromtheloft.com/comedy/jeff-dunh...</td>\n",
       "      <td>\\n \\n I’m funnier than he is, but they told me...</td>\n",
       "    </tr>\n",
       "    <tr>\n",
       "      <th>2</th>\n",
       "      <td>https://scrapsfromtheloft.com/comedy/taylor-to...</td>\n",
       "      <td>\\n \\n In her 2024 Netflix stand-up comedy spec...</td>\n",
       "    </tr>\n",
       "    <tr>\n",
       "      <th>3</th>\n",
       "      <td>https://scrapsfromtheloft.com/comedy/kevin-bri...</td>\n",
       "      <td>\\n \\n Kevin Bridges: The Overdue Catch-Up  (20...</td>\n",
       "    </tr>\n",
       "    <tr>\n",
       "      <th>4</th>\n",
       "      <td>https://scrapsfromtheloft.com/comedy/jacquelin...</td>\n",
       "      <td>\\n \\n In “Get on Your Knees,”  Jacqueline Nova...</td>\n",
       "    </tr>\n",
       "  </tbody>\n",
       "</table>\n",
       "</div>"
      ],
      "text/plain": [
       "                                                 URL  \\\n",
       "0  https://scrapsfromtheloft.com/comedy/pete-holm...   \n",
       "1  https://scrapsfromtheloft.com/comedy/jeff-dunh...   \n",
       "2  https://scrapsfromtheloft.com/comedy/taylor-to...   \n",
       "3  https://scrapsfromtheloft.com/comedy/kevin-bri...   \n",
       "4  https://scrapsfromtheloft.com/comedy/jacquelin...   \n",
       "\n",
       "                                          transcript  \n",
       "0  \\n \\n [audience cheering and applauding] \\n He...  \n",
       "1  \\n \\n I’m funnier than he is, but they told me...  \n",
       "2  \\n \\n In her 2024 Netflix stand-up comedy spec...  \n",
       "3  \\n \\n Kevin Bridges: The Overdue Catch-Up  (20...  \n",
       "4  \\n \\n In “Get on Your Knees,”  Jacqueline Nova...  "
      ]
     },
     "execution_count": 69,
     "metadata": {},
     "output_type": "execute_result"
    }
   ],
   "source": [
    "df.head()"
   ]
  },
  {
   "cell_type": "code",
   "execution_count": 70,
   "metadata": {},
   "outputs": [],
   "source": [
    "import re"
   ]
  },
  {
   "cell_type": "code",
   "execution_count": 71,
   "metadata": {},
   "outputs": [],
   "source": [
    "def extract_full_name(url):\n",
    "  \n",
    "    match = re.search(r'https://scrapsfromtheloft.com/comedy/([a-z]+-[a-z]+)', url, re.IGNORECASE)\n",
    "    if match:\n",
    "        full_name = match.group(1).replace('-', ' ')\n",
    "        return full_name\n",
    "    else:\n",
    "        return None"
   ]
  },
  {
   "cell_type": "code",
   "execution_count": 72,
   "metadata": {},
   "outputs": [],
   "source": [
    "df['Comedian Name'] = df['URL'].apply(extract_full_name)"
   ]
  },
  {
   "cell_type": "code",
   "execution_count": 73,
   "metadata": {},
   "outputs": [
    {
     "data": {
      "text/html": [
       "<div>\n",
       "<style scoped>\n",
       "    .dataframe tbody tr th:only-of-type {\n",
       "        vertical-align: middle;\n",
       "    }\n",
       "\n",
       "    .dataframe tbody tr th {\n",
       "        vertical-align: top;\n",
       "    }\n",
       "\n",
       "    .dataframe thead th {\n",
       "        text-align: right;\n",
       "    }\n",
       "</style>\n",
       "<table border=\"1\" class=\"dataframe\">\n",
       "  <thead>\n",
       "    <tr style=\"text-align: right;\">\n",
       "      <th></th>\n",
       "      <th>URL</th>\n",
       "      <th>transcript</th>\n",
       "      <th>Comedian Name</th>\n",
       "    </tr>\n",
       "  </thead>\n",
       "  <tbody>\n",
       "    <tr>\n",
       "      <th>0</th>\n",
       "      <td>https://scrapsfromtheloft.com/comedy/pete-holm...</td>\n",
       "      <td>\\n \\n [audience cheering and applauding] \\n He...</td>\n",
       "      <td>pete holmes</td>\n",
       "    </tr>\n",
       "    <tr>\n",
       "      <th>1</th>\n",
       "      <td>https://scrapsfromtheloft.com/comedy/jeff-dunh...</td>\n",
       "      <td>\\n \\n I’m funnier than he is, but they told me...</td>\n",
       "      <td>jeff dunham</td>\n",
       "    </tr>\n",
       "    <tr>\n",
       "      <th>2</th>\n",
       "      <td>https://scrapsfromtheloft.com/comedy/taylor-to...</td>\n",
       "      <td>\\n \\n In her 2024 Netflix stand-up comedy spec...</td>\n",
       "      <td>taylor tomlinson</td>\n",
       "    </tr>\n",
       "    <tr>\n",
       "      <th>3</th>\n",
       "      <td>https://scrapsfromtheloft.com/comedy/kevin-bri...</td>\n",
       "      <td>\\n \\n Kevin Bridges: The Overdue Catch-Up  (20...</td>\n",
       "      <td>kevin bridges</td>\n",
       "    </tr>\n",
       "    <tr>\n",
       "      <th>4</th>\n",
       "      <td>https://scrapsfromtheloft.com/comedy/jacquelin...</td>\n",
       "      <td>\\n \\n In “Get on Your Knees,”  Jacqueline Nova...</td>\n",
       "      <td>jacqueline novak</td>\n",
       "    </tr>\n",
       "  </tbody>\n",
       "</table>\n",
       "</div>"
      ],
      "text/plain": [
       "                                                 URL  \\\n",
       "0  https://scrapsfromtheloft.com/comedy/pete-holm...   \n",
       "1  https://scrapsfromtheloft.com/comedy/jeff-dunh...   \n",
       "2  https://scrapsfromtheloft.com/comedy/taylor-to...   \n",
       "3  https://scrapsfromtheloft.com/comedy/kevin-bri...   \n",
       "4  https://scrapsfromtheloft.com/comedy/jacquelin...   \n",
       "\n",
       "                                          transcript     Comedian Name  \n",
       "0  \\n \\n [audience cheering and applauding] \\n He...       pete holmes  \n",
       "1  \\n \\n I’m funnier than he is, but they told me...       jeff dunham  \n",
       "2  \\n \\n In her 2024 Netflix stand-up comedy spec...  taylor tomlinson  \n",
       "3  \\n \\n Kevin Bridges: The Overdue Catch-Up  (20...     kevin bridges  \n",
       "4  \\n \\n In “Get on Your Knees,”  Jacqueline Nova...  jacqueline novak  "
      ]
     },
     "execution_count": 73,
     "metadata": {},
     "output_type": "execute_result"
    }
   ],
   "source": [
    "df.head()"
   ]
  },
  {
   "cell_type": "code",
   "execution_count": 74,
   "metadata": {},
   "outputs": [
    {
     "data": {
      "text/plain": [
       "URL              0\n",
       "transcript       0\n",
       "Comedian Name    5\n",
       "dtype: int64"
      ]
     },
     "execution_count": 74,
     "metadata": {},
     "output_type": "execute_result"
    }
   ],
   "source": [
    "df.isnull().sum()"
   ]
  },
  {
   "cell_type": "code",
   "execution_count": 75,
   "metadata": {},
   "outputs": [
    {
     "data": {
      "text/html": [
       "<div>\n",
       "<style scoped>\n",
       "    .dataframe tbody tr th:only-of-type {\n",
       "        vertical-align: middle;\n",
       "    }\n",
       "\n",
       "    .dataframe tbody tr th {\n",
       "        vertical-align: top;\n",
       "    }\n",
       "\n",
       "    .dataframe thead th {\n",
       "        text-align: right;\n",
       "    }\n",
       "</style>\n",
       "<table border=\"1\" class=\"dataframe\">\n",
       "  <thead>\n",
       "    <tr style=\"text-align: right;\">\n",
       "      <th></th>\n",
       "      <th>URL</th>\n",
       "      <th>transcript</th>\n",
       "      <th>Comedian Name</th>\n",
       "    </tr>\n",
       "  </thead>\n",
       "  <tbody>\n",
       "    <tr>\n",
       "      <th>339</th>\n",
       "      <td>https://scrapsfromtheloft.com/movies/dave-chap...</td>\n",
       "      <td>\\n \\n Original English transcript  here \\n [Da...</td>\n",
       "      <td>None</td>\n",
       "    </tr>\n",
       "    <tr>\n",
       "      <th>350</th>\n",
       "      <td>https://scrapsfromtheloft.com/movies/ricky-ger...</td>\n",
       "      <td>\\n \\n The Houses of Parliament, home to Britis...</td>\n",
       "      <td>None</td>\n",
       "    </tr>\n",
       "    <tr>\n",
       "      <th>395</th>\n",
       "      <td>https://scrapsfromtheloft.com/movies/richard-p...</td>\n",
       "      <td>\\n \\n Richard Pryor will make me laugh until I...</td>\n",
       "      <td>None</td>\n",
       "    </tr>\n",
       "    <tr>\n",
       "      <th>397</th>\n",
       "      <td>https://scrapsfromtheloft.com/movies/amy-schum...</td>\n",
       "      <td>\\n \\n Fuck, yeah! This is such a big night for...</td>\n",
       "      <td>None</td>\n",
       "    </tr>\n",
       "    <tr>\n",
       "      <th>399</th>\n",
       "      <td>https://scrapsfromtheloft.com/movies/amy-schum...</td>\n",
       "      <td>\\n \\n My name is Amy, and it’s my show! ♪ Man ...</td>\n",
       "      <td>None</td>\n",
       "    </tr>\n",
       "  </tbody>\n",
       "</table>\n",
       "</div>"
      ],
      "text/plain": [
       "                                                   URL  \\\n",
       "339  https://scrapsfromtheloft.com/movies/dave-chap...   \n",
       "350  https://scrapsfromtheloft.com/movies/ricky-ger...   \n",
       "395  https://scrapsfromtheloft.com/movies/richard-p...   \n",
       "397  https://scrapsfromtheloft.com/movies/amy-schum...   \n",
       "399  https://scrapsfromtheloft.com/movies/amy-schum...   \n",
       "\n",
       "                                            transcript Comedian Name  \n",
       "339  \\n \\n Original English transcript  here \\n [Da...          None  \n",
       "350  \\n \\n The Houses of Parliament, home to Britis...          None  \n",
       "395  \\n \\n Richard Pryor will make me laugh until I...          None  \n",
       "397  \\n \\n Fuck, yeah! This is such a big night for...          None  \n",
       "399  \\n \\n My name is Amy, and it’s my show! ♪ Man ...          None  "
      ]
     },
     "execution_count": 75,
     "metadata": {},
     "output_type": "execute_result"
    }
   ],
   "source": [
    "df[df['Comedian Name'].isnull()]\n"
   ]
  },
  {
   "cell_type": "code",
   "execution_count": 76,
   "metadata": {},
   "outputs": [],
   "source": [
    "indices = [339, 350, 395, 397, 399]\n",
    "\n",
    "for idx in indices:\n",
    "    if pd.isnull(df.loc[idx, 'Comedian Name']):\n",
    "        url = df.loc[idx, 'URL']\n",
    "        match = re.search(r'https://scrapsfromtheloft.com/movies/([a-z]+-[a-z]+)', url, re.IGNORECASE)\n",
    "        if match:\n",
    "          df.loc[idx, 'Comedian Name'] = match.group(1).replace('-', ' ')\n"
   ]
  },
  {
   "cell_type": "code",
   "execution_count": 77,
   "metadata": {},
   "outputs": [
    {
     "data": {
      "text/html": [
       "<div>\n",
       "<style scoped>\n",
       "    .dataframe tbody tr th:only-of-type {\n",
       "        vertical-align: middle;\n",
       "    }\n",
       "\n",
       "    .dataframe tbody tr th {\n",
       "        vertical-align: top;\n",
       "    }\n",
       "\n",
       "    .dataframe thead th {\n",
       "        text-align: right;\n",
       "    }\n",
       "</style>\n",
       "<table border=\"1\" class=\"dataframe\">\n",
       "  <thead>\n",
       "    <tr style=\"text-align: right;\">\n",
       "      <th></th>\n",
       "      <th>URL</th>\n",
       "      <th>transcript</th>\n",
       "      <th>Comedian Name</th>\n",
       "    </tr>\n",
       "  </thead>\n",
       "  <tbody>\n",
       "    <tr>\n",
       "      <th>339</th>\n",
       "      <td>https://scrapsfromtheloft.com/movies/dave-chap...</td>\n",
       "      <td>\\n \\n Original English transcript  here \\n [Da...</td>\n",
       "      <td>dave chappelle</td>\n",
       "    </tr>\n",
       "    <tr>\n",
       "      <th>350</th>\n",
       "      <td>https://scrapsfromtheloft.com/movies/ricky-ger...</td>\n",
       "      <td>\\n \\n The Houses of Parliament, home to Britis...</td>\n",
       "      <td>ricky gervais</td>\n",
       "    </tr>\n",
       "    <tr>\n",
       "      <th>395</th>\n",
       "      <td>https://scrapsfromtheloft.com/movies/richard-p...</td>\n",
       "      <td>\\n \\n Richard Pryor will make me laugh until I...</td>\n",
       "      <td>richard pryor</td>\n",
       "    </tr>\n",
       "    <tr>\n",
       "      <th>397</th>\n",
       "      <td>https://scrapsfromtheloft.com/movies/amy-schum...</td>\n",
       "      <td>\\n \\n Fuck, yeah! This is such a big night for...</td>\n",
       "      <td>amy schumer</td>\n",
       "    </tr>\n",
       "    <tr>\n",
       "      <th>399</th>\n",
       "      <td>https://scrapsfromtheloft.com/movies/amy-schum...</td>\n",
       "      <td>\\n \\n My name is Amy, and it’s my show! ♪ Man ...</td>\n",
       "      <td>amy schumer</td>\n",
       "    </tr>\n",
       "  </tbody>\n",
       "</table>\n",
       "</div>"
      ],
      "text/plain": [
       "                                                   URL  \\\n",
       "339  https://scrapsfromtheloft.com/movies/dave-chap...   \n",
       "350  https://scrapsfromtheloft.com/movies/ricky-ger...   \n",
       "395  https://scrapsfromtheloft.com/movies/richard-p...   \n",
       "397  https://scrapsfromtheloft.com/movies/amy-schum...   \n",
       "399  https://scrapsfromtheloft.com/movies/amy-schum...   \n",
       "\n",
       "                                            transcript   Comedian Name  \n",
       "339  \\n \\n Original English transcript  here \\n [Da...  dave chappelle  \n",
       "350  \\n \\n The Houses of Parliament, home to Britis...   ricky gervais  \n",
       "395  \\n \\n Richard Pryor will make me laugh until I...   richard pryor  \n",
       "397  \\n \\n Fuck, yeah! This is such a big night for...     amy schumer  \n",
       "399  \\n \\n My name is Amy, and it’s my show! ♪ Man ...     amy schumer  "
      ]
     },
     "execution_count": 77,
     "metadata": {},
     "output_type": "execute_result"
    }
   ],
   "source": [
    "df.loc[indices]"
   ]
  },
  {
   "cell_type": "code",
   "execution_count": 78,
   "metadata": {},
   "outputs": [
    {
     "data": {
      "text/html": [
       "<div>\n",
       "<style scoped>\n",
       "    .dataframe tbody tr th:only-of-type {\n",
       "        vertical-align: middle;\n",
       "    }\n",
       "\n",
       "    .dataframe tbody tr th {\n",
       "        vertical-align: top;\n",
       "    }\n",
       "\n",
       "    .dataframe thead th {\n",
       "        text-align: right;\n",
       "    }\n",
       "</style>\n",
       "<table border=\"1\" class=\"dataframe\">\n",
       "  <thead>\n",
       "    <tr style=\"text-align: right;\">\n",
       "      <th></th>\n",
       "      <th>URL</th>\n",
       "      <th>transcript</th>\n",
       "      <th>Comedian Name</th>\n",
       "    </tr>\n",
       "  </thead>\n",
       "  <tbody>\n",
       "    <tr>\n",
       "      <th>0</th>\n",
       "      <td>https://scrapsfromtheloft.com/comedy/pete-holm...</td>\n",
       "      <td>\\n \\n [audience cheering and applauding] \\n He...</td>\n",
       "      <td>pete holmes</td>\n",
       "    </tr>\n",
       "    <tr>\n",
       "      <th>1</th>\n",
       "      <td>https://scrapsfromtheloft.com/comedy/jeff-dunh...</td>\n",
       "      <td>\\n \\n I’m funnier than he is, but they told me...</td>\n",
       "      <td>jeff dunham</td>\n",
       "    </tr>\n",
       "    <tr>\n",
       "      <th>2</th>\n",
       "      <td>https://scrapsfromtheloft.com/comedy/taylor-to...</td>\n",
       "      <td>\\n \\n In her 2024 Netflix stand-up comedy spec...</td>\n",
       "      <td>taylor tomlinson</td>\n",
       "    </tr>\n",
       "    <tr>\n",
       "      <th>3</th>\n",
       "      <td>https://scrapsfromtheloft.com/comedy/kevin-bri...</td>\n",
       "      <td>\\n \\n Kevin Bridges: The Overdue Catch-Up  (20...</td>\n",
       "      <td>kevin bridges</td>\n",
       "    </tr>\n",
       "    <tr>\n",
       "      <th>4</th>\n",
       "      <td>https://scrapsfromtheloft.com/comedy/jacquelin...</td>\n",
       "      <td>\\n \\n In “Get on Your Knees,”  Jacqueline Nova...</td>\n",
       "      <td>jacqueline novak</td>\n",
       "    </tr>\n",
       "  </tbody>\n",
       "</table>\n",
       "</div>"
      ],
      "text/plain": [
       "                                                 URL  \\\n",
       "0  https://scrapsfromtheloft.com/comedy/pete-holm...   \n",
       "1  https://scrapsfromtheloft.com/comedy/jeff-dunh...   \n",
       "2  https://scrapsfromtheloft.com/comedy/taylor-to...   \n",
       "3  https://scrapsfromtheloft.com/comedy/kevin-bri...   \n",
       "4  https://scrapsfromtheloft.com/comedy/jacquelin...   \n",
       "\n",
       "                                          transcript     Comedian Name  \n",
       "0  \\n \\n [audience cheering and applauding] \\n He...       pete holmes  \n",
       "1  \\n \\n I’m funnier than he is, but they told me...       jeff dunham  \n",
       "2  \\n \\n In her 2024 Netflix stand-up comedy spec...  taylor tomlinson  \n",
       "3  \\n \\n Kevin Bridges: The Overdue Catch-Up  (20...     kevin bridges  \n",
       "4  \\n \\n In “Get on Your Knees,”  Jacqueline Nova...  jacqueline novak  "
      ]
     },
     "execution_count": 78,
     "metadata": {},
     "output_type": "execute_result"
    }
   ],
   "source": [
    "df.head()"
   ]
  },
  {
   "cell_type": "code",
   "execution_count": 79,
   "metadata": {},
   "outputs": [],
   "source": [
    "df['Comedian Name'] = df['Comedian Name'].str.title()"
   ]
  },
  {
   "cell_type": "code",
   "execution_count": 80,
   "metadata": {},
   "outputs": [
    {
     "data": {
      "text/plain": [
       "URL              0\n",
       "transcript       0\n",
       "Comedian Name    0\n",
       "dtype: int64"
      ]
     },
     "execution_count": 80,
     "metadata": {},
     "output_type": "execute_result"
    }
   ],
   "source": [
    "df.isnull().sum()"
   ]
  },
  {
   "cell_type": "code",
   "execution_count": 81,
   "metadata": {},
   "outputs": [
    {
     "data": {
      "text/html": [
       "<div>\n",
       "<style scoped>\n",
       "    .dataframe tbody tr th:only-of-type {\n",
       "        vertical-align: middle;\n",
       "    }\n",
       "\n",
       "    .dataframe tbody tr th {\n",
       "        vertical-align: top;\n",
       "    }\n",
       "\n",
       "    .dataframe thead th {\n",
       "        text-align: right;\n",
       "    }\n",
       "</style>\n",
       "<table border=\"1\" class=\"dataframe\">\n",
       "  <thead>\n",
       "    <tr style=\"text-align: right;\">\n",
       "      <th></th>\n",
       "      <th>URL</th>\n",
       "      <th>transcript</th>\n",
       "      <th>Comedian Name</th>\n",
       "    </tr>\n",
       "  </thead>\n",
       "  <tbody>\n",
       "    <tr>\n",
       "      <th>0</th>\n",
       "      <td>https://scrapsfromtheloft.com/comedy/pete-holm...</td>\n",
       "      <td>\\n \\n [audience cheering and applauding] \\n He...</td>\n",
       "      <td>Pete Holmes</td>\n",
       "    </tr>\n",
       "    <tr>\n",
       "      <th>1</th>\n",
       "      <td>https://scrapsfromtheloft.com/comedy/jeff-dunh...</td>\n",
       "      <td>\\n \\n I’m funnier than he is, but they told me...</td>\n",
       "      <td>Jeff Dunham</td>\n",
       "    </tr>\n",
       "    <tr>\n",
       "      <th>2</th>\n",
       "      <td>https://scrapsfromtheloft.com/comedy/taylor-to...</td>\n",
       "      <td>\\n \\n In her 2024 Netflix stand-up comedy spec...</td>\n",
       "      <td>Taylor Tomlinson</td>\n",
       "    </tr>\n",
       "    <tr>\n",
       "      <th>3</th>\n",
       "      <td>https://scrapsfromtheloft.com/comedy/kevin-bri...</td>\n",
       "      <td>\\n \\n Kevin Bridges: The Overdue Catch-Up  (20...</td>\n",
       "      <td>Kevin Bridges</td>\n",
       "    </tr>\n",
       "    <tr>\n",
       "      <th>4</th>\n",
       "      <td>https://scrapsfromtheloft.com/comedy/jacquelin...</td>\n",
       "      <td>\\n \\n In “Get on Your Knees,”  Jacqueline Nova...</td>\n",
       "      <td>Jacqueline Novak</td>\n",
       "    </tr>\n",
       "    <tr>\n",
       "      <th>5</th>\n",
       "      <td>https://scrapsfromtheloft.com/comedy/kelsey-co...</td>\n",
       "      <td>\\n \\n Premiered March 10, 2023 \\n In “The Hust...</td>\n",
       "      <td>Kelsey Cook</td>\n",
       "    </tr>\n",
       "    <tr>\n",
       "      <th>6</th>\n",
       "      <td>https://scrapsfromtheloft.com/comedy/dylan-mor...</td>\n",
       "      <td>\\n \\n In “Yeah, Yeah,”  Dylan Moran  offers a ...</td>\n",
       "      <td>Dylan Moran</td>\n",
       "    </tr>\n",
       "    <tr>\n",
       "      <th>7</th>\n",
       "      <td>https://scrapsfromtheloft.com/comedy/dusty-sla...</td>\n",
       "      <td>\\n \\n Stand-up comedy \\n In “Dusty Slay: Worki...</td>\n",
       "      <td>Dusty Slay</td>\n",
       "    </tr>\n",
       "    <tr>\n",
       "      <th>8</th>\n",
       "      <td>https://scrapsfromtheloft.com/comedy/jack-whit...</td>\n",
       "      <td>\\n \\n Jack Whitehall: Settle Down (2024) \\n In...</td>\n",
       "      <td>Jack Whitehall</td>\n",
       "    </tr>\n",
       "    <tr>\n",
       "      <th>9</th>\n",
       "      <td>https://scrapsfromtheloft.com/comedy/dylan-mor...</td>\n",
       "      <td>\\n \\n Dylan Moran’s  What It Is  (2009) offers...</td>\n",
       "      <td>Dylan Moran</td>\n",
       "    </tr>\n",
       "    <tr>\n",
       "      <th>10</th>\n",
       "      <td>https://scrapsfromtheloft.com/comedy/kevin-jam...</td>\n",
       "      <td>\\n \\n Kevin James: Irregardless (2024) \\n In  ...</td>\n",
       "      <td>Kevin James</td>\n",
       "    </tr>\n",
       "    <tr>\n",
       "      <th>11</th>\n",
       "      <td>https://scrapsfromtheloft.com/comedy/pete-davi...</td>\n",
       "      <td>\\n \\n Pete Davidson: Turbo Fonzarelli (2024) \\...</td>\n",
       "      <td>Pete Davidson</td>\n",
       "    </tr>\n",
       "    <tr>\n",
       "      <th>12</th>\n",
       "      <td>https://scrapsfromtheloft.com/comedy/david-nih...</td>\n",
       "      <td>\\n \\n In this 2023 comedy special, David Nihil...</td>\n",
       "      <td>David Nihill</td>\n",
       "    </tr>\n",
       "    <tr>\n",
       "      <th>13</th>\n",
       "      <td>https://scrapsfromtheloft.com/comedy/matt-rife...</td>\n",
       "      <td>\\n \\n In his second hour-long  comedy special ...</td>\n",
       "      <td>Matt Rife</td>\n",
       "    </tr>\n",
       "    <tr>\n",
       "      <th>14</th>\n",
       "      <td>https://scrapsfromtheloft.com/comedy/shane-gil...</td>\n",
       "      <td>\\n \\n Shane Gillis’ debut stand-up comedy spec...</td>\n",
       "      <td>Shane Gillis</td>\n",
       "    </tr>\n",
       "    <tr>\n",
       "      <th>15</th>\n",
       "      <td>https://scrapsfromtheloft.com/comedy/lewis-bla...</td>\n",
       "      <td>\\n \\n Lewis Black: Tragically, I Need You  (20...</td>\n",
       "      <td>Lewis Black</td>\n",
       "    </tr>\n",
       "    <tr>\n",
       "      <th>16</th>\n",
       "      <td>https://scrapsfromtheloft.com/comedy/stavros-h...</td>\n",
       "      <td>\\n \\n In his  stand-up comedy  special  Live a...</td>\n",
       "      <td>Stavros Halkias</td>\n",
       "    </tr>\n",
       "    <tr>\n",
       "      <th>17</th>\n",
       "      <td>https://scrapsfromtheloft.com/comedy/george-ca...</td>\n",
       "      <td>\\n \\n George Carlin: I’m Glad I’m Dead  (2024)...</td>\n",
       "      <td>George Carlin</td>\n",
       "    </tr>\n",
       "    <tr>\n",
       "      <th>18</th>\n",
       "      <td>https://scrapsfromtheloft.com/comedy/leanne-mo...</td>\n",
       "      <td>\\n \\n Leanne Morgan: I’m Every Woman (2023) \\n...</td>\n",
       "      <td>Leanne Morgan</td>\n",
       "    </tr>\n",
       "    <tr>\n",
       "      <th>19</th>\n",
       "      <td>https://scrapsfromtheloft.com/comedy/louis-ck-...</td>\n",
       "      <td>\\n \\n “Louis C.K.: At The Dolby” is Louis C.K....</td>\n",
       "      <td>Louis Ck</td>\n",
       "    </tr>\n",
       "    <tr>\n",
       "      <th>20</th>\n",
       "      <td>https://scrapsfromtheloft.com/comedy/roseanne-...</td>\n",
       "      <td>\\n \\n “Roseanne Barr: Cancel This!” is a stand...</td>\n",
       "      <td>Roseanne Barr</td>\n",
       "    </tr>\n",
       "    <tr>\n",
       "      <th>21</th>\n",
       "      <td>https://scrapsfromtheloft.com/comedy/sammy-obe...</td>\n",
       "      <td>\\n \\n In this stand-up comedy show, Sammy Obei...</td>\n",
       "      <td>Sammy Obeid</td>\n",
       "    </tr>\n",
       "    <tr>\n",
       "      <th>22</th>\n",
       "      <td>https://scrapsfromtheloft.com/comedy/sammy-obe...</td>\n",
       "      <td>\\n \\n In this humorous and politically charged...</td>\n",
       "      <td>Sammy Obeid</td>\n",
       "    </tr>\n",
       "    <tr>\n",
       "      <th>23</th>\n",
       "      <td>https://scrapsfromtheloft.com/comedy/sammy-obe...</td>\n",
       "      <td>\\n \\n In a candid monologue, comedian Sammy Ob...</td>\n",
       "      <td>Sammy Obeid</td>\n",
       "    </tr>\n",
       "    <tr>\n",
       "      <th>24</th>\n",
       "      <td>https://scrapsfromtheloft.com/comedy/sammy-obe...</td>\n",
       "      <td>\\n \\n In this stand-up, comedian Sammy Obeid h...</td>\n",
       "      <td>Sammy Obeid</td>\n",
       "    </tr>\n",
       "  </tbody>\n",
       "</table>\n",
       "</div>"
      ],
      "text/plain": [
       "                                                  URL  \\\n",
       "0   https://scrapsfromtheloft.com/comedy/pete-holm...   \n",
       "1   https://scrapsfromtheloft.com/comedy/jeff-dunh...   \n",
       "2   https://scrapsfromtheloft.com/comedy/taylor-to...   \n",
       "3   https://scrapsfromtheloft.com/comedy/kevin-bri...   \n",
       "4   https://scrapsfromtheloft.com/comedy/jacquelin...   \n",
       "5   https://scrapsfromtheloft.com/comedy/kelsey-co...   \n",
       "6   https://scrapsfromtheloft.com/comedy/dylan-mor...   \n",
       "7   https://scrapsfromtheloft.com/comedy/dusty-sla...   \n",
       "8   https://scrapsfromtheloft.com/comedy/jack-whit...   \n",
       "9   https://scrapsfromtheloft.com/comedy/dylan-mor...   \n",
       "10  https://scrapsfromtheloft.com/comedy/kevin-jam...   \n",
       "11  https://scrapsfromtheloft.com/comedy/pete-davi...   \n",
       "12  https://scrapsfromtheloft.com/comedy/david-nih...   \n",
       "13  https://scrapsfromtheloft.com/comedy/matt-rife...   \n",
       "14  https://scrapsfromtheloft.com/comedy/shane-gil...   \n",
       "15  https://scrapsfromtheloft.com/comedy/lewis-bla...   \n",
       "16  https://scrapsfromtheloft.com/comedy/stavros-h...   \n",
       "17  https://scrapsfromtheloft.com/comedy/george-ca...   \n",
       "18  https://scrapsfromtheloft.com/comedy/leanne-mo...   \n",
       "19  https://scrapsfromtheloft.com/comedy/louis-ck-...   \n",
       "20  https://scrapsfromtheloft.com/comedy/roseanne-...   \n",
       "21  https://scrapsfromtheloft.com/comedy/sammy-obe...   \n",
       "22  https://scrapsfromtheloft.com/comedy/sammy-obe...   \n",
       "23  https://scrapsfromtheloft.com/comedy/sammy-obe...   \n",
       "24  https://scrapsfromtheloft.com/comedy/sammy-obe...   \n",
       "\n",
       "                                           transcript     Comedian Name  \n",
       "0   \\n \\n [audience cheering and applauding] \\n He...       Pete Holmes  \n",
       "1   \\n \\n I’m funnier than he is, but they told me...       Jeff Dunham  \n",
       "2   \\n \\n In her 2024 Netflix stand-up comedy spec...  Taylor Tomlinson  \n",
       "3   \\n \\n Kevin Bridges: The Overdue Catch-Up  (20...     Kevin Bridges  \n",
       "4   \\n \\n In “Get on Your Knees,”  Jacqueline Nova...  Jacqueline Novak  \n",
       "5   \\n \\n Premiered March 10, 2023 \\n In “The Hust...       Kelsey Cook  \n",
       "6   \\n \\n In “Yeah, Yeah,”  Dylan Moran  offers a ...       Dylan Moran  \n",
       "7   \\n \\n Stand-up comedy \\n In “Dusty Slay: Worki...        Dusty Slay  \n",
       "8   \\n \\n Jack Whitehall: Settle Down (2024) \\n In...    Jack Whitehall  \n",
       "9   \\n \\n Dylan Moran’s  What It Is  (2009) offers...       Dylan Moran  \n",
       "10  \\n \\n Kevin James: Irregardless (2024) \\n In  ...       Kevin James  \n",
       "11  \\n \\n Pete Davidson: Turbo Fonzarelli (2024) \\...     Pete Davidson  \n",
       "12  \\n \\n In this 2023 comedy special, David Nihil...      David Nihill  \n",
       "13  \\n \\n In his second hour-long  comedy special ...         Matt Rife  \n",
       "14  \\n \\n Shane Gillis’ debut stand-up comedy spec...      Shane Gillis  \n",
       "15  \\n \\n Lewis Black: Tragically, I Need You  (20...       Lewis Black  \n",
       "16  \\n \\n In his  stand-up comedy  special  Live a...   Stavros Halkias  \n",
       "17  \\n \\n George Carlin: I’m Glad I’m Dead  (2024)...     George Carlin  \n",
       "18  \\n \\n Leanne Morgan: I’m Every Woman (2023) \\n...     Leanne Morgan  \n",
       "19  \\n \\n “Louis C.K.: At The Dolby” is Louis C.K....          Louis Ck  \n",
       "20  \\n \\n “Roseanne Barr: Cancel This!” is a stand...     Roseanne Barr  \n",
       "21  \\n \\n In this stand-up comedy show, Sammy Obei...       Sammy Obeid  \n",
       "22  \\n \\n In this humorous and politically charged...       Sammy Obeid  \n",
       "23  \\n \\n In a candid monologue, comedian Sammy Ob...       Sammy Obeid  \n",
       "24  \\n \\n In this stand-up, comedian Sammy Obeid h...       Sammy Obeid  "
      ]
     },
     "execution_count": 81,
     "metadata": {},
     "output_type": "execute_result"
    }
   ],
   "source": [
    "df.head(25)"
   ]
  },
  {
   "cell_type": "code",
   "execution_count": 82,
   "metadata": {},
   "outputs": [],
   "source": [
    "df['word_count'] = df['transcript'].apply(lambda x: len(x.split()))"
   ]
  },
  {
   "cell_type": "code",
   "execution_count": 83,
   "metadata": {},
   "outputs": [],
   "source": [
    "# Printing output of transcript's token list\n",
    "#for i in df['transcript']:\n",
    "#    print(i.split())\n",
    "#    break"
   ]
  },
  {
   "cell_type": "code",
   "execution_count": 84,
   "metadata": {},
   "outputs": [
    {
     "data": {
      "text/plain": [
       "(473, 4)"
      ]
     },
     "execution_count": 84,
     "metadata": {},
     "output_type": "execute_result"
    }
   ],
   "source": [
    "df.shape"
   ]
  },
  {
   "cell_type": "code",
   "execution_count": 85,
   "metadata": {},
   "outputs": [],
   "source": [
    "df['Unique ID'] = range(len(df))"
   ]
  },
  {
   "cell_type": "code",
   "execution_count": 86,
   "metadata": {},
   "outputs": [],
   "source": [
    "df.to_csv(\"data_parsed.csv\")"
   ]
  },
  {
   "cell_type": "code",
   "execution_count": null,
   "metadata": {},
   "outputs": [],
   "source": [
    "df = pd.read_csv(\"data_parsed.csv\")"
   ]
  },
  {
   "cell_type": "code",
   "execution_count": 87,
   "metadata": {},
   "outputs": [
    {
     "data": {
      "text/plain": [
       "'https://scrapsfromtheloft.com/comedy/george-carlin-saturday-night-live-monologue1975-s01e01/'"
      ]
     },
     "execution_count": 87,
     "metadata": {},
     "output_type": "execute_result"
    }
   ],
   "source": [
    "df[\"URL\"][253]"
   ]
  },
  {
   "cell_type": "code",
   "execution_count": 103,
   "metadata": {},
   "outputs": [],
   "source": [
    "sorted_indices = df['word_count'].argsort()\n",
    "sorted_labels = (df['Unique ID'].astype(str) + ' - ' + df['Comedian Name']).iloc[sorted_indices]\n",
    "sorted_counts = df['word_count'].sort_values()"
   ]
  },
  {
   "cell_type": "code",
   "execution_count": 105,
   "metadata": {},
   "outputs": [],
   "source": [
    "plt.figure(figsize=(10, 95))\n",
    "bars = plt.barh(sorted_labels, sorted_counts, color='skyblue', height=0.8)\n",
    "plt.xlabel('Word Count')\n",
    "plt.title('Word Count by Comedy Special ( Comedian + ID ) ')\n",
    "\n",
    "for bar in bars:\n",
    "    plt.text(bar.get_width() + 10, \n",
    "             bar.get_y() + bar.get_height()/2, \n",
    "             f'{int(bar.get_width())}', \n",
    "             va='center', ha='left', color='black', fontsize=9)\n",
    "\n",
    "\n",
    "plt.subplots_adjust(right=1.2) \n",
    "plt.ylim(-0.5, len(sorted_labels)-0.5)\n",
    "plt.show()"
   ]
  },
  {
   "cell_type": "code",
   "execution_count": 89,
   "metadata": {},
   "outputs": [],
   "source": [
    "# Computing polarity values\n",
    "v_obj = SentimentIntensityAnalyzer()\n",
    "df['sentiment'] = df['transcript'].apply(lambda x: v_obj.polarity_scores(x))\n",
    "\n",
    "# Creating separate columns for polarities - negative, positive, neutral\n",
    "df['neg_polarity'] = df['sentiment'].apply(lambda x: x['neg'])\n",
    "df['neu_polarity'] = df['sentiment'].apply(lambda x: x['neu'])\n",
    "df['pos_polarity'] = df['sentiment'].apply(lambda x: x['pos'])\n",
    "df['compound'] = df['sentiment'].apply(lambda x: x['compound'])"
   ]
  },
  {
   "cell_type": "code",
   "execution_count": 90,
   "metadata": {},
   "outputs": [],
   "source": [
    "# Dropping sentiment column\n",
    "df.drop(['sentiment'], axis = 1, inplace = True)"
   ]
  },
  {
   "cell_type": "code",
   "execution_count": 91,
   "metadata": {},
   "outputs": [
    {
     "data": {
      "text/html": [
       "<div>\n",
       "<style scoped>\n",
       "    .dataframe tbody tr th:only-of-type {\n",
       "        vertical-align: middle;\n",
       "    }\n",
       "\n",
       "    .dataframe tbody tr th {\n",
       "        vertical-align: top;\n",
       "    }\n",
       "\n",
       "    .dataframe thead th {\n",
       "        text-align: right;\n",
       "    }\n",
       "</style>\n",
       "<table border=\"1\" class=\"dataframe\">\n",
       "  <thead>\n",
       "    <tr style=\"text-align: right;\">\n",
       "      <th></th>\n",
       "      <th>URL</th>\n",
       "      <th>transcript</th>\n",
       "      <th>Comedian Name</th>\n",
       "      <th>word_count</th>\n",
       "      <th>Unique ID</th>\n",
       "      <th>neg_polarity</th>\n",
       "      <th>neu_polarity</th>\n",
       "      <th>pos_polarity</th>\n",
       "      <th>compound</th>\n",
       "      <th>subjectivity</th>\n",
       "    </tr>\n",
       "  </thead>\n",
       "  <tbody>\n",
       "    <tr>\n",
       "      <th>0</th>\n",
       "      <td>https://scrapsfromtheloft.com/comedy/pete-holm...</td>\n",
       "      <td>\\n \\n [audience cheering and applauding] \\n He...</td>\n",
       "      <td>Pete Holmes</td>\n",
       "      <td>10068</td>\n",
       "      <td>0</td>\n",
       "      <td>0.056</td>\n",
       "      <td>0.688</td>\n",
       "      <td>0.256</td>\n",
       "      <td>1.0000</td>\n",
       "      <td>0.504545</td>\n",
       "    </tr>\n",
       "    <tr>\n",
       "      <th>1</th>\n",
       "      <td>https://scrapsfromtheloft.com/comedy/jeff-dunh...</td>\n",
       "      <td>\\n \\n I’m funnier than he is, but they told me...</td>\n",
       "      <td>Jeff Dunham</td>\n",
       "      <td>4943</td>\n",
       "      <td>1</td>\n",
       "      <td>0.062</td>\n",
       "      <td>0.673</td>\n",
       "      <td>0.264</td>\n",
       "      <td>1.0000</td>\n",
       "      <td>0.535705</td>\n",
       "    </tr>\n",
       "    <tr>\n",
       "      <th>2</th>\n",
       "      <td>https://scrapsfromtheloft.com/comedy/taylor-to...</td>\n",
       "      <td>\\n \\n In her 2024 Netflix stand-up comedy spec...</td>\n",
       "      <td>Taylor Tomlinson</td>\n",
       "      <td>11197</td>\n",
       "      <td>2</td>\n",
       "      <td>0.077</td>\n",
       "      <td>0.717</td>\n",
       "      <td>0.206</td>\n",
       "      <td>1.0000</td>\n",
       "      <td>0.510567</td>\n",
       "    </tr>\n",
       "    <tr>\n",
       "      <th>3</th>\n",
       "      <td>https://scrapsfromtheloft.com/comedy/kevin-bri...</td>\n",
       "      <td>\\n \\n Kevin Bridges: The Overdue Catch-Up  (20...</td>\n",
       "      <td>Kevin Bridges</td>\n",
       "      <td>12777</td>\n",
       "      <td>3</td>\n",
       "      <td>0.087</td>\n",
       "      <td>0.796</td>\n",
       "      <td>0.117</td>\n",
       "      <td>0.9999</td>\n",
       "      <td>0.504952</td>\n",
       "    </tr>\n",
       "    <tr>\n",
       "      <th>4</th>\n",
       "      <td>https://scrapsfromtheloft.com/comedy/jacquelin...</td>\n",
       "      <td>\\n \\n In “Get on Your Knees,”  Jacqueline Nova...</td>\n",
       "      <td>Jacqueline Novak</td>\n",
       "      <td>17783</td>\n",
       "      <td>4</td>\n",
       "      <td>0.077</td>\n",
       "      <td>0.733</td>\n",
       "      <td>0.190</td>\n",
       "      <td>1.0000</td>\n",
       "      <td>0.535544</td>\n",
       "    </tr>\n",
       "  </tbody>\n",
       "</table>\n",
       "</div>"
      ],
      "text/plain": [
       "                                                 URL  \\\n",
       "0  https://scrapsfromtheloft.com/comedy/pete-holm...   \n",
       "1  https://scrapsfromtheloft.com/comedy/jeff-dunh...   \n",
       "2  https://scrapsfromtheloft.com/comedy/taylor-to...   \n",
       "3  https://scrapsfromtheloft.com/comedy/kevin-bri...   \n",
       "4  https://scrapsfromtheloft.com/comedy/jacquelin...   \n",
       "\n",
       "                                          transcript     Comedian Name  \\\n",
       "0  \\n \\n [audience cheering and applauding] \\n He...       Pete Holmes   \n",
       "1  \\n \\n I’m funnier than he is, but they told me...       Jeff Dunham   \n",
       "2  \\n \\n In her 2024 Netflix stand-up comedy spec...  Taylor Tomlinson   \n",
       "3  \\n \\n Kevin Bridges: The Overdue Catch-Up  (20...     Kevin Bridges   \n",
       "4  \\n \\n In “Get on Your Knees,”  Jacqueline Nova...  Jacqueline Novak   \n",
       "\n",
       "   word_count  Unique ID  neg_polarity  neu_polarity  pos_polarity  compound  \\\n",
       "0       10068          0         0.056         0.688         0.256    1.0000   \n",
       "1        4943          1         0.062         0.673         0.264    1.0000   \n",
       "2       11197          2         0.077         0.717         0.206    1.0000   \n",
       "3       12777          3         0.087         0.796         0.117    0.9999   \n",
       "4       17783          4         0.077         0.733         0.190    1.0000   \n",
       "\n",
       "   subjectivity  \n",
       "0      0.504545  \n",
       "1      0.535705  \n",
       "2      0.510567  \n",
       "3      0.504952  \n",
       "4      0.535544  "
      ]
     },
     "execution_count": 91,
     "metadata": {},
     "output_type": "execute_result"
    }
   ],
   "source": [
    "# Computing subjectivity value\n",
    "df['subjectivity'] = df['transcript'].apply(lambda x: TextBlob(x).sentiment.subjectivity)\n",
    "df.head()"
   ]
  },
  {
   "cell_type": "code",
   "execution_count": 92,
   "metadata": {},
   "outputs": [],
   "source": [
    "df.to_csv(\"polarity_subjectivity_data_without_LemmStemm.csv\")"
   ]
  },
  {
   "cell_type": "code",
   "execution_count": 108,
   "metadata": {},
   "outputs": [],
   "source": [
    "df = pd.read_csv(\"polarity_subjectivity_data_without_LemmStemm.csv\")"
   ]
  },
  {
   "cell_type": "code",
   "execution_count": 109,
   "metadata": {},
   "outputs": [],
   "source": [
    "fig, ax = plt.subplots()\n",
    "\n",
    "ax.scatter(df['pos_polarity'], df['subjectivity'])\n",
    "\n",
    "for i, txt in enumerate(df['Comedian Name']):\n",
    "    ax.annotate(txt, (df['pos_polarity'][i], df['subjectivity'][i]))\n",
    "\n",
    "ax.set_title('Positive Polarity vs Subjectivity')\n",
    "ax.set_xlabel('Positive Polarity')\n",
    "ax.set_ylabel('Subjectivity')\n",
    "plt.show()"
   ]
  },
  {
   "cell_type": "code",
   "execution_count": null,
   "metadata": {},
   "outputs": [],
   "source": []
  }
 ],
 "metadata": {
  "kernelspec": {
   "display_name": ".venv",
   "language": "python",
   "name": "python3"
  },
  "language_info": {
   "codemirror_mode": {
    "name": "ipython",
    "version": 3
   },
   "file_extension": ".py",
   "mimetype": "text/x-python",
   "name": "python",
   "nbconvert_exporter": "python",
   "pygments_lexer": "ipython3",
   "version": "3.10.2"
  }
 },
 "nbformat": 4,
 "nbformat_minor": 2
}
