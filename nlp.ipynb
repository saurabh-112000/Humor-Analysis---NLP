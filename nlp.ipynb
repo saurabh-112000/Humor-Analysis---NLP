{
 "cells": [
  {
   "cell_type": "code",
   "execution_count": 21,
   "metadata": {},
   "outputs": [],
   "source": [
    "import pandas as pd\n",
    "import os\n",
    "from data_extraction import extract_hyperlinks_from_excel\n"
   ]
  },
  {
   "cell_type": "code",
   "execution_count": 22,
   "metadata": {},
   "outputs": [
    {
     "name": "stdout",
     "output_type": "stream",
     "text": [
      "                                                   URL\n",
      "0    https://scrapsfromtheloft.com/comedy/pete-holm...\n",
      "1    https://scrapsfromtheloft.com/comedy/jeff-dunh...\n",
      "2    https://scrapsfromtheloft.com/comedy/taylor-to...\n",
      "3    https://scrapsfromtheloft.com/comedy/kevin-bri...\n",
      "4    https://scrapsfromtheloft.com/comedy/jacquelin...\n",
      "..                                                 ...\n",
      "468  https://scrapsfromtheloft.com/comedy/george-ca...\n",
      "469  https://scrapsfromtheloft.com/comedy/jim-jeffe...\n",
      "470  https://scrapsfromtheloft.com/comedy/reggie-wa...\n",
      "471  https://scrapsfromtheloft.com/comedy/george-ca...\n",
      "472  https://scrapsfromtheloft.com/comedy/george-ca...\n",
      "\n",
      "[473 rows x 1 columns]\n"
     ]
    }
   ],
   "source": [
    "rel_path = 'data/transcripts_urls.xlsx'\n",
    "excel_path = os.path.join(os.getcwd(), rel_path)\n",
    "\n",
    "urls = extract_hyperlinks_from_excel(excel_path, header_name='URL')\n",
    "df_urls = pd.DataFrame(urls, columns=['URL'])\n",
    "print(df_urls)"
   ]
  }
 ],
 "metadata": {
  "kernelspec": {
   "display_name": "Python 3",
   "language": "python",
   "name": "python3"
  },
  "language_info": {
   "codemirror_mode": {
    "name": "ipython",
    "version": 3
   },
   "file_extension": ".py",
   "mimetype": "text/x-python",
   "name": "python",
   "nbconvert_exporter": "python",
   "pygments_lexer": "ipython3",
   "version": "3.11.9"
  }
 },
 "nbformat": 4,
 "nbformat_minor": 2
}
