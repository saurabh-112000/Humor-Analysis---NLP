{
 "cells": [
  {
   "cell_type": "code",
   "execution_count": 1,
   "metadata": {},
   "outputs": [
    {
     "name": "stderr",
     "output_type": "stream",
     "text": [
      "[nltk_data] Downloading package stopwords to\n",
      "[nltk_data]     C:\\Users\\stuti\\AppData\\Roaming\\nltk_data...\n",
      "[nltk_data]   Package stopwords is already up-to-date!\n"
     ]
    }
   ],
   "source": [
    "import pandas as pd\n",
    "from bs4 import BeautifulSoup\n",
    "import requests\n",
    "from vaderSentiment.vaderSentiment import SentimentIntensityAnalyzer\n",
    "from textblob import TextBlob\n",
    "import matplotlib.pyplot as plt\n",
    "import regex as re\n",
    "import nltk\n",
    "import string\n",
    "from nltk.corpus import stopwords\n",
    "nltk.download('stopwords')\n",
    "from nltk.tokenize import word_tokenize\n",
    "from nltk.probability import FreqDist"
   ]
  },
  {
   "cell_type": "code",
   "execution_count": 2,
   "metadata": {},
   "outputs": [
    {
     "data": {
      "text/html": [
       "<div>\n",
       "<style scoped>\n",
       "    .dataframe tbody tr th:only-of-type {\n",
       "        vertical-align: middle;\n",
       "    }\n",
       "\n",
       "    .dataframe tbody tr th {\n",
       "        vertical-align: top;\n",
       "    }\n",
       "\n",
       "    .dataframe thead th {\n",
       "        text-align: right;\n",
       "    }\n",
       "</style>\n",
       "<table border=\"1\" class=\"dataframe\">\n",
       "  <thead>\n",
       "    <tr style=\"text-align: right;\">\n",
       "      <th></th>\n",
       "      <th>Unnamed: 0</th>\n",
       "      <th>URL</th>\n",
       "      <th>transcript</th>\n",
       "      <th>Comedian Name</th>\n",
       "      <th>word_count</th>\n",
       "      <th>Unique ID</th>\n",
       "      <th>neg_polarity</th>\n",
       "      <th>neu_polarity</th>\n",
       "      <th>pos_polarity</th>\n",
       "      <th>compound</th>\n",
       "      <th>subjectivity</th>\n",
       "    </tr>\n",
       "  </thead>\n",
       "  <tbody>\n",
       "    <tr>\n",
       "      <th>0</th>\n",
       "      <td>0</td>\n",
       "      <td>https://scrapsfromtheloft.com/comedy/pete-holm...</td>\n",
       "      <td>\\r\\n \\r\\n [audience cheering and applauding] \\...</td>\n",
       "      <td>Pete Holmes</td>\n",
       "      <td>10068</td>\n",
       "      <td>0</td>\n",
       "      <td>0.056</td>\n",
       "      <td>0.688</td>\n",
       "      <td>0.256</td>\n",
       "      <td>1.0</td>\n",
       "      <td>0.504545</td>\n",
       "    </tr>\n",
       "  </tbody>\n",
       "</table>\n",
       "</div>"
      ],
      "text/plain": [
       "   Unnamed: 0                                                URL  \\\n",
       "0           0  https://scrapsfromtheloft.com/comedy/pete-holm...   \n",
       "\n",
       "                                          transcript Comedian Name  \\\n",
       "0  \\r\\n \\r\\n [audience cheering and applauding] \\...   Pete Holmes   \n",
       "\n",
       "   word_count  Unique ID  neg_polarity  neu_polarity  pos_polarity  compound  \\\n",
       "0       10068          0         0.056         0.688         0.256       1.0   \n",
       "\n",
       "   subjectivity  \n",
       "0      0.504545  "
      ]
     },
     "execution_count": 2,
     "metadata": {},
     "output_type": "execute_result"
    }
   ],
   "source": [
    "df = pd.read_csv('polarity_subjectivity_data_without_LemmStemm.csv')\n",
    "df.head(1)"
   ]
  },
  {
   "cell_type": "code",
   "execution_count": 3,
   "metadata": {},
   "outputs": [],
   "source": [
    "# Removing punctuations from transcript\n",
    "df['transcript'] = df['transcript'].str.replace(f'[{string.punctuation}]', '', regex = True)\n",
    "\n",
    "# Removing special characters\n",
    "df['transcript'] = df['transcript'].apply(lambda x: re.sub('[^\\w\\s]', '', x))\n",
    "\n",
    "# Decapitalizing text\n",
    "df['transcript'] = df['transcript'].apply(lambda x: x.lower())"
   ]
  },
  {
   "cell_type": "code",
   "execution_count": 4,
   "metadata": {},
   "outputs": [
    {
     "data": {
      "text/html": [
       "<div>\n",
       "<style scoped>\n",
       "    .dataframe tbody tr th:only-of-type {\n",
       "        vertical-align: middle;\n",
       "    }\n",
       "\n",
       "    .dataframe tbody tr th {\n",
       "        vertical-align: top;\n",
       "    }\n",
       "\n",
       "    .dataframe thead th {\n",
       "        text-align: right;\n",
       "    }\n",
       "</style>\n",
       "<table border=\"1\" class=\"dataframe\">\n",
       "  <thead>\n",
       "    <tr style=\"text-align: right;\">\n",
       "      <th></th>\n",
       "      <th>Unnamed: 0</th>\n",
       "      <th>URL</th>\n",
       "      <th>transcript</th>\n",
       "      <th>Comedian Name</th>\n",
       "      <th>word_count</th>\n",
       "      <th>Unique ID</th>\n",
       "      <th>neg_polarity</th>\n",
       "      <th>neu_polarity</th>\n",
       "      <th>pos_polarity</th>\n",
       "      <th>compound</th>\n",
       "      <th>subjectivity</th>\n",
       "    </tr>\n",
       "  </thead>\n",
       "  <tbody>\n",
       "    <tr>\n",
       "      <th>0</th>\n",
       "      <td>0</td>\n",
       "      <td>https://scrapsfromtheloft.com/comedy/pete-holm...</td>\n",
       "      <td>\\r\\n \\r\\n audience cheering and applauding \\r\\...</td>\n",
       "      <td>Pete Holmes</td>\n",
       "      <td>10068</td>\n",
       "      <td>0</td>\n",
       "      <td>0.056</td>\n",
       "      <td>0.688</td>\n",
       "      <td>0.256</td>\n",
       "      <td>1.0</td>\n",
       "      <td>0.504545</td>\n",
       "    </tr>\n",
       "  </tbody>\n",
       "</table>\n",
       "</div>"
      ],
      "text/plain": [
       "   Unnamed: 0                                                URL  \\\n",
       "0           0  https://scrapsfromtheloft.com/comedy/pete-holm...   \n",
       "\n",
       "                                          transcript Comedian Name  \\\n",
       "0  \\r\\n \\r\\n audience cheering and applauding \\r\\...   Pete Holmes   \n",
       "\n",
       "   word_count  Unique ID  neg_polarity  neu_polarity  pos_polarity  compound  \\\n",
       "0       10068          0         0.056         0.688         0.256       1.0   \n",
       "\n",
       "   subjectivity  \n",
       "0      0.504545  "
      ]
     },
     "execution_count": 4,
     "metadata": {},
     "output_type": "execute_result"
    }
   ],
   "source": [
    "df.head(1)"
   ]
  },
  {
   "cell_type": "code",
   "execution_count": 5,
   "metadata": {},
   "outputs": [],
   "source": [
    "# Eliminating stop words\n",
    "stop_words = stopwords.words('english')\n",
    "\n",
    "df['tokens_lst'] = df['transcript'].apply(lambda x: [w for w in word_tokenize(x) if not w.lower() in stop_words])\n"
   ]
  },
  {
   "cell_type": "code",
   "execution_count": 6,
   "metadata": {},
   "outputs": [
    {
     "data": {
      "text/html": [
       "<div>\n",
       "<style scoped>\n",
       "    .dataframe tbody tr th:only-of-type {\n",
       "        vertical-align: middle;\n",
       "    }\n",
       "\n",
       "    .dataframe tbody tr th {\n",
       "        vertical-align: top;\n",
       "    }\n",
       "\n",
       "    .dataframe thead th {\n",
       "        text-align: right;\n",
       "    }\n",
       "</style>\n",
       "<table border=\"1\" class=\"dataframe\">\n",
       "  <thead>\n",
       "    <tr style=\"text-align: right;\">\n",
       "      <th></th>\n",
       "      <th>Unnamed: 0</th>\n",
       "      <th>URL</th>\n",
       "      <th>transcript</th>\n",
       "      <th>Comedian Name</th>\n",
       "      <th>word_count</th>\n",
       "      <th>Unique ID</th>\n",
       "      <th>neg_polarity</th>\n",
       "      <th>neu_polarity</th>\n",
       "      <th>pos_polarity</th>\n",
       "      <th>compound</th>\n",
       "      <th>subjectivity</th>\n",
       "      <th>tokens_lst</th>\n",
       "    </tr>\n",
       "  </thead>\n",
       "  <tbody>\n",
       "    <tr>\n",
       "      <th>0</th>\n",
       "      <td>0</td>\n",
       "      <td>https://scrapsfromtheloft.com/comedy/pete-holm...</td>\n",
       "      <td>\\r\\n \\r\\n audience cheering and applauding \\r\\...</td>\n",
       "      <td>Pete Holmes</td>\n",
       "      <td>10068</td>\n",
       "      <td>0</td>\n",
       "      <td>0.056</td>\n",
       "      <td>0.688</td>\n",
       "      <td>0.256</td>\n",
       "      <td>1.0</td>\n",
       "      <td>0.504545</td>\n",
       "      <td>[audience, cheering, applauding, hello, hello,...</td>\n",
       "    </tr>\n",
       "  </tbody>\n",
       "</table>\n",
       "</div>"
      ],
      "text/plain": [
       "   Unnamed: 0                                                URL  \\\n",
       "0           0  https://scrapsfromtheloft.com/comedy/pete-holm...   \n",
       "\n",
       "                                          transcript Comedian Name  \\\n",
       "0  \\r\\n \\r\\n audience cheering and applauding \\r\\...   Pete Holmes   \n",
       "\n",
       "   word_count  Unique ID  neg_polarity  neu_polarity  pos_polarity  compound  \\\n",
       "0       10068          0         0.056         0.688         0.256       1.0   \n",
       "\n",
       "   subjectivity                                         tokens_lst  \n",
       "0      0.504545  [audience, cheering, applauding, hello, hello,...  "
      ]
     },
     "execution_count": 6,
     "metadata": {},
     "output_type": "execute_result"
    }
   ],
   "source": [
    "df.head(1)"
   ]
  },
  {
   "cell_type": "code",
   "execution_count": 24,
   "metadata": {},
   "outputs": [],
   "source": [
    "# Counting most frequently ocurring words in the corpus\n",
    "txt = df['tokens_lst'].apply(lambda x: ' '.join(x))\n",
    "tokens = [w for lst in txt.apply(word_tokenize) for w in lst]\n",
    "word_cnt = FreqDist(tokens)"
   ]
  },
  {
   "cell_type": "code",
   "execution_count": 25,
   "metadata": {},
   "outputs": [
    {
     "data": {
      "text/plain": [
       "FreqDist({'like': 57765, 'know': 31199, 'im': 31177, 'dont': 25077, 'thats': 18584, 'get': 18314, 'got': 16914, 'right': 16169, 'go': 16142, 'youre': 14655, ...})"
      ]
     },
     "execution_count": 25,
     "metadata": {},
     "output_type": "execute_result"
    }
   ],
   "source": [
    "word_cnt"
   ]
  },
  {
   "cell_type": "code",
   "execution_count": null,
   "metadata": {},
   "outputs": [],
   "source": []
  }
 ],
 "metadata": {
  "kernelspec": {
   "display_name": ".venv",
   "language": "python",
   "name": "python3"
  },
  "language_info": {
   "codemirror_mode": {
    "name": "ipython",
    "version": 3
   },
   "file_extension": ".py",
   "mimetype": "text/x-python",
   "name": "python",
   "nbconvert_exporter": "python",
   "pygments_lexer": "ipython3",
   "version": "3.9.6"
  }
 },
 "nbformat": 4,
 "nbformat_minor": 2
}
